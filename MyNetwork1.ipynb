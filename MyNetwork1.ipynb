{
 "cells": [
  {
   "cell_type": "markdown",
   "metadata": {},
   "source": [
    "### Cargar librerias "
   ]
  },
  {
   "cell_type": "code",
   "execution_count": 7,
   "metadata": {},
   "outputs": [],
   "source": [
    "import torch\n",
    "from torchvision import datasets,transforms\n",
    "import helper\n",
    "import matplotlib.pyplot as plt"
   ]
  },
  {
   "cell_type": "markdown",
   "metadata": {},
   "source": [
    "### Cargar conjunto de datos "
   ]
  },
  {
   "cell_type": "code",
   "execution_count": 8,
   "metadata": {},
   "outputs": [],
   "source": [
    "# definiir una transformacion \n",
    "transform=transforms.Compose([transforms.ToTensor(),\n",
    "                              transforms.Normalize((0.5,0.5,0.5),(0.5,0.5,0.5))\n",
    "                            ])\n",
    "# descargar conjunto de entrenamiento \n",
    "trainset=datasets.FashionMNIST('-/.pytorch/F_MNIST_data/',download=True,train=True,transform=transform)\n",
    "## train (bool, optional) – If True, creates dataset from training.pt, otherwise from test.pt.\n",
    "trainloader=torch.utils.data.DataLoader(trainset,batch_size=64,shuffle=True)\n",
    "# descargar conjunto de prueba (test)\n",
    "testset=datasets.FashionMNIST('-/.pytorch/F_MNIST_data/',download=True,train=False,transform=transform)\n",
    "## train (bool, optional) – If True, creates dataset from training.pt, otherwise from test.pt.\n",
    "testloader=torch.utils.data.DataLoader(testset,batch_size=64,shuffle=True)"
   ]
  },
  {
   "cell_type": "code",
   "execution_count": 3,
   "metadata": {},
   "outputs": [
    {
     "data": {
      "text/plain": [
       "Dataset FashionMNIST\n",
       "    Number of datapoints: 60000\n",
       "    Split: train\n",
       "    Root Location: -/.pytorch/F_MNIST_data/\n",
       "    Transforms (if any): Compose(\n",
       "                             ToTensor()\n",
       "                             Normalize(mean=(0.5, 0.5, 0.5), std=(0.5, 0.5, 0.5))\n",
       "                         )\n",
       "    Target Transforms (if any): None"
      ]
     },
     "execution_count": 3,
     "metadata": {},
     "output_type": "execute_result"
    }
   ],
   "source": [
    "trainset"
   ]
  },
  {
   "cell_type": "code",
   "execution_count": 30,
   "metadata": {},
   "outputs": [
    {
     "name": "stdout",
     "output_type": "stream",
     "text": [
      "El numero de clases es 10\n"
     ]
    },
    {
     "data": {
      "image/png": "[encoded data removed]",
      "text/plain": [
       "<Figure size 432x288 with 1 Axes>"
      ]
     },
     "metadata": {},
     "output_type": "display_data"
    }
   ],
   "source": [
    "trainset.train_data.shape # existen 6000 imagenes de 28x28\n",
    "img1=trainset.train_data[0]\n",
    "plt.imshow(img1) \n",
    "n_clases=len(torch.unique(trainset.train_labels))\n",
    "print(\"El numero de clases es\",n_clases) "
   ]
  },
  {
   "cell_type": "markdown",
   "metadata": {},
   "source": [
    "### Mostrar imagen de entrenamiento "
   ]
  },
  {
   "cell_type": "code",
   "execution_count": 32,
   "metadata": {},
   "outputs": [
    {
     "name": "stdout",
     "output_type": "stream",
     "text": [
      "torch.Size([64, 1, 28, 28])\n",
      "torch.Size([64])\n"
     ]
    },
    {
     "data": {
      "text/plain": [
       "torch.Size([64, 784])"
      ]
     },
     "execution_count": 32,
     "metadata": {},
     "output_type": "execute_result"
    },
    {
     "data": {
      "image/png": "[encoded data removed]",
      "text/plain": [
       "<Figure size 432x288 with 1 Axes>"
      ]
     },
     "metadata": {},
     "output_type": "display_data"
    }
   ],
   "source": [
    "images,labels=next(iter(trainloader))\n",
    "print(images.shape)\n",
    "print(labels.shape)\n",
    "helper.imshow(images[0,:])\n",
    "x=images.view(images.shape[0],-1)\n",
    "x.shape"
   ]
  },
  {
   "cell_type": "markdown",
   "metadata": {},
   "source": [
    "### Construir red"
   ]
  },
  {
   "cell_type": "markdown",
   "metadata": {},
   "source": [
    "Agregar caracterisitica de drop out , al hacer esto se necesitan utiliar los metodos .eval() "
   ]
  },
  {
   "cell_type": "code",
   "execution_count": 9,
   "metadata": {},
   "outputs": [],
   "source": [
    "from torch import nn,optim\n",
    "import torch.nn.functional as F"
   ]
  },
  {
   "cell_type": "code",
   "execution_count": 10,
   "metadata": {},
   "outputs": [],
   "source": [
    "class Net(nn.Module):\n",
    "    def __init__(self):\n",
    "        super().__init__()\n",
    "        self.fc1=nn.Linear(784,256)\n",
    "        self.fc2=nn.Linear(256,128)\n",
    "        self.fc3=nn.Linear(128,64)\n",
    "        self.fc4=nn.Linear(64,10)\n",
    "        # agregar capa de dropout con probabilidad de 0.2\n",
    "        self.dropout=nn.Dropout(p=0.2)\n",
    "        \n",
    "    def forward(self,x): # x tiene la forma 64 X 1 X 28 X 28\n",
    "        x=x.view(x.shape[0],-1) # 64 x 748 \n",
    "        \n",
    "        # agregar dropout\n",
    "        \n",
    "        x=self.dropout(F.relu(self.fc1(x)))\n",
    "        x=self.dropout(F.relu(self.fc2(x)))\n",
    "        x=self.dropout(F.relu(self.fc3(x)))\n",
    "        \n",
    "        # no se necesita dropout aqui \n",
    "        x=F.log_softmax(self.fc4(x),dim=1) # log(softmax(x))\n",
    "        return x\n",
    "    \n",
    "    "
   ]
  },
  {
   "cell_type": "markdown",
   "metadata": {},
   "source": [
    "### Entrenar red "
   ]
  },
  {
   "cell_type": "code",
   "execution_count": 4,
   "metadata": {},
   "outputs": [
    {
     "data": {
      "text/plain": [
       "Net(\n",
       "  (fc1): Linear(in_features=784, out_features=256, bias=True)\n",
       "  (fc2): Linear(in_features=256, out_features=128, bias=True)\n",
       "  (fc3): Linear(in_features=128, out_features=64, bias=True)\n",
       "  (fc4): Linear(in_features=64, out_features=10, bias=True)\n",
       "  (dropout): Dropout(p=0.2)\n",
       ")"
      ]
     },
     "execution_count": 4,
     "metadata": {},
     "output_type": "execute_result"
    }
   ],
   "source": [
    "model=Net()  # crear una instacnia de la clase\n",
    "model"
   ]
  },
  {
   "cell_type": "code",
   "execution_count": 5,
   "metadata": {},
   "outputs": [],
   "source": [
    "criterion=nn.NLLLoss() # definir funcion de costo"
   ]
  },
  {
   "cell_type": "code",
   "execution_count": 6,
   "metadata": {},
   "outputs": [
    {
     "data": {
      "text/plain": [
       "Adam (\n",
       "Parameter Group 0\n",
       "    amsgrad: False\n",
       "    betas: (0.9, 0.999)\n",
       "    eps: 1e-08\n",
       "    lr: 0.003\n",
       "    weight_decay: 0\n",
       ")"
      ]
     },
     "execution_count": 6,
     "metadata": {},
     "output_type": "execute_result"
    }
   ],
   "source": [
    "optimizer=optim.Adam(model.parameters(),lr=0.003)  # definir optimizador \n",
    "optimizer"
   ]
  },
  {
   "cell_type": "code",
   "execution_count": 15,
   "metadata": {},
   "outputs": [
    {
     "name": "stdout",
     "output_type": "stream",
     "text": [
      "Epoch: 1/3..  Training Loss: 0.431..  Train Accuracy: 0.001 Test Loss: 0.421..  Test Accuracy: 0.004\n",
      "Epoch: 2/3..  Training Loss: 0.420..  Train Accuracy: 0.001 Test Loss: 0.399..  Test Accuracy: 0.006\n",
      "Epoch: 3/3..  Training Loss: 0.412..  Train Accuracy: 0.001 Test Loss: 0.404..  Test Accuracy: 0.006\n"
     ]
    }
   ],
   "source": [
    "epochs=3\n",
    "steps=0\n",
    "\n",
    "train_losses,test_losses=[],[]\n",
    "\n",
    "for e in range(epochs):\n",
    "    running_loss=0\n",
    "    train_accuracy=0\n",
    "    for images,labels in trainloader:\n",
    "        log_ps=model(images) ## or model.forward(images)\n",
    "        loss=criterion(log_ps,labels)\n",
    "        optimizer.zero_grad()  ## limpiar optimizador (acumulado)\n",
    "        loss.backward() # calcular gradientes\n",
    "        optimizer.step() # actualizar parametros \n",
    "        running_loss  += loss.item()\n",
    "        \n",
    "        ps=torch.exp(log_ps)\n",
    "        top_p,top_class=ps.topk(1,dim=1)  # obtenemos los maximos de la clasificacion\n",
    "        \n",
    "        equals=top_class==labels.view(*top_class.shape)\n",
    "        train_accuracy=torch.mean(equals.type(torch.FloatTensor))\n",
    "        \n",
    "        \n",
    "        \n",
    "        \n",
    "    else:  ## una vez que ya se hayan operado todos lo lotes de las imagenes de entrenamiento\n",
    "        test_loss=0\n",
    "        test_accuracy=0\n",
    "        # apagar gradientes para validacion\n",
    "        with torch.no_grad():\n",
    "            model.eval() # establecer en modo evaluacion de esta forma , el dropout tambien se desactiva\n",
    "            for images,labels in testloader:\n",
    "                log_ps=model(images)\n",
    "                test_loss+=criterion(log_ps,labels)\n",
    "                \n",
    "                \n",
    "                ps=torch.exp(log_ps)\n",
    "                top_p,top_class=ps.topk(1,dim=1)  # obtenemos los maximos de la clasificacion\n",
    "                equals=top_class==labels.view(*top_class.shape)\n",
    "                test_accuracy=torch.mean(equals.type(torch.FloatTensor))\n",
    "        model.train()\n",
    "        \n",
    "        train_losses.append(running_loss/len(trainloader))\n",
    "        test_losses.append(test_loss/len(testloader))\n",
    "                \n",
    "        print(\"Epoch: {}/{}.. \".format(e+1, epochs),\n",
    "              \"Training Loss: {:.3f}.. \".format(train_losses[-1]),\n",
    "              \"Train Accuracy: {:.3f}\".format(train_accuracy/len(trainloader)),\n",
    "              \"Test Loss: {:.3f}.. \".format(test_losses[-1]),\n",
    "              \"Test Accuracy: {:.3f}\".format(test_accuracy/len(testloader)))\n",
    "        "
   ]
  },
  {
   "cell_type": "code",
   "execution_count": 12,
   "metadata": {},
   "outputs": [],
   "source": [
    "%matplotlib inline\n",
    "%config InlineBackend.figure_format = 'retina'\n",
    "\n",
    "import matplotlib.pyplot as plt\n"
   ]
  },
  {
   "cell_type": "code",
   "execution_count": 13,
   "metadata": {},
   "outputs": [
    {
     "data": {
      "text/plain": [
       "<matplotlib.legend.Legend at 0xc9d488c390>"
      ]
     },
     "execution_count": 13,
     "metadata": {},
     "output_type": "execute_result"
    },
    {
     "data": {
      "image/png": "[encoded data removed]",
      "text/plain": [
       "<Figure size 432x288 with 1 Axes>"
      ]
     },
     "metadata": {
      "image/png": {
       "height": 250,
       "width": 386
      }
     },
     "output_type": "display_data"
    }
   ],
   "source": [
    "plt.plot(train_losses, label='Training loss')\n",
    "plt.plot(test_losses, label='Validation loss')\n",
    "plt.legend(frameon=False)"
   ]
  },
  {
   "cell_type": "markdown",
   "metadata": {},
   "source": [
    "### Probar red"
   ]
  },
  {
   "cell_type": "code",
   "execution_count": 16,
   "metadata": {},
   "outputs": [],
   "source": [
    "import helper"
   ]
  },
  {
   "cell_type": "code",
   "execution_count": 36,
   "metadata": {},
   "outputs": [
    {
     "data": {
      "image/png": "[encoded data removed]",
      "text/plain": [
       "<Figure size 432x648 with 2 Axes>"
      ]
     },
     "metadata": {
      "image/png": {
       "height": 204,
       "width": 423
      }
     },
     "output_type": "display_data"
    }
   ],
   "source": [
    "images,labels=next(iter(testloader))\n",
    "img=images[0]\n",
    "\n",
    "model.eval()\n",
    "with torch.no_grad():\n",
    "    ps=torch.exp(model(img)) # se utiliza exp debido a que la salida de la red regresa log\n",
    "\n",
    "helper.view_classify(img,ps,version='Fashion')"
   ]
  },
  {
   "cell_type": "markdown",
   "metadata": {},
   "source": [
    "### Salvar modelo"
   ]
  },
  {
   "cell_type": "code",
   "execution_count": 41,
   "metadata": {},
   "outputs": [
    {
     "name": "stdout",
     "output_type": "stream",
     "text": [
      "El modelo es: \n",
      "\n",
      " Net(\n",
      "  (fc1): Linear(in_features=784, out_features=256, bias=True)\n",
      "  (fc2): Linear(in_features=256, out_features=128, bias=True)\n",
      "  (fc3): Linear(in_features=128, out_features=64, bias=True)\n",
      "  (fc4): Linear(in_features=64, out_features=10, bias=True)\n",
      "  (dropout): Dropout(p=0.2)\n",
      ") \n",
      "\n",
      "odict_keys(['fc1.weight', 'fc1.bias', 'fc2.weight', 'fc2.bias', 'fc3.weight', 'fc3.bias', 'fc4.weight', 'fc4.bias'])\n"
     ]
    }
   ],
   "source": [
    "print(\"El modelo es: \\n\\n\", model,'\\n')\n",
    "for x, y in thisdict.items():print(model.state_dict().keys()) ## model.state_dict() es simplemente un diccionario"
   ]
  },
  {
   "cell_type": "code",
   "execution_count": 78,
   "metadata": {},
   "outputs": [
    {
     "data": {
      "text/plain": [
       "{'architecture': [('fc1.weight', 256, 784),\n",
       "  ('fc1.bias', 256),\n",
       "  ('fc2.weight', 128, 256),\n",
       "  ('fc2.bias', 128),\n",
       "  ('fc3.weight', 64, 128),\n",
       "  ('fc3.bias', 64),\n",
       "  ('fc4.weight', 10, 64),\n",
       "  ('fc4.bias', 10)],\n",
       " 'state_dict': OrderedDict([('fc1.weight',\n",
       "               tensor([[ 0.1627,  0.1251,  0.0979,  ...,  0.1854,  0.1368,  0.1274],\n",
       "                       [ 0.0140,  0.0205,  0.0277,  ...,  0.0412,  0.0688,  0.0024],\n",
       "                       [ 0.0171,  0.0211,  0.0596,  ..., -0.0023,  0.0289,  0.0619],\n",
       "                       ...,\n",
       "                       [ 0.0834,  0.0846,  0.0171,  ...,  0.0298,  0.0643,  0.1004],\n",
       "                       [ 0.1508,  0.1505,  0.1451,  ...,  0.1549,  0.1626,  0.1668],\n",
       "                       [ 0.2063,  0.1641,  0.2125,  ...,  0.2164,  0.2311,  0.1780]])),\n",
       "              ('fc1.bias',\n",
       "               tensor([-0.1532, -0.0661, -0.0104, -0.2076, -0.0469, -0.0402, -0.2213, -0.0756,\n",
       "                       -0.0929, -0.1459, -0.1208, -0.0973, -0.1039, -0.1041, -0.0484, -0.2054,\n",
       "                       -0.0447, -0.1659, -0.0704,  0.0033, -0.0293, -0.1164, -0.1005, -0.0588,\n",
       "                       -0.2037, -0.1793, -0.0606, -0.1259, -0.0804,  0.0122, -0.0462, -0.1714,\n",
       "                        0.2110, -0.0262,  0.0198, -0.0809, -0.0873, -0.0627, -0.0405, -0.0741,\n",
       "                       -0.0532, -0.1067,  0.0718, -0.1728, -0.0819, -0.0662, -0.1342, -0.0206,\n",
       "                       -0.0036, -0.0663, -0.0804, -0.1257, -0.1706, -0.1002, -0.0806, -0.0490,\n",
       "                       -0.0661, -0.1221, -0.0319, -0.0066, -0.1172, -0.0879, -0.1205, -0.2115,\n",
       "                       -0.1220, -0.0827, -0.1141, -0.0480, -0.1375, -0.0744, -0.1477, -0.0513,\n",
       "                       -0.0897, -0.1123, -0.0728, -0.1191, -0.0953, -0.0042, -0.1495, -0.1497,\n",
       "                       -0.1213, -0.1014, -0.0523, -0.0460, -0.0275, -0.0893, -0.0497, -0.0833,\n",
       "                       -0.0650, -0.0308, -0.0094, -0.0415, -0.0156, -0.0450, -0.0639, -0.0914,\n",
       "                       -0.0104, -0.0436, -0.0724, -0.0830, -0.0770, -0.0975,  0.0329, -0.0885,\n",
       "                       -0.1064, -0.0765, -0.1223, -0.1003, -0.0751, -0.1919, -0.1181, -0.0503,\n",
       "                       -0.0474, -0.0559, -0.1624, -0.0978, -0.1409, -0.1414,  0.0102, -0.0971,\n",
       "                        0.0634, -0.0809, -0.1342, -0.1368, -0.1024, -0.0672, -0.1296, -0.0043,\n",
       "                       -0.0670, -0.0027, -0.1097, -0.1983, -0.0223,  0.0336, -0.1578, -0.0993,\n",
       "                       -0.0966, -0.0772, -0.1289, -0.0933, -0.0434, -0.1641, -0.1297,  0.0110,\n",
       "                       -0.0545, -0.0841, -0.0526, -0.0712, -0.1060, -0.0384, -0.2010, -0.1135,\n",
       "                       -0.1473, -0.1416,  0.1015, -0.0229,  0.0244, -0.0790, -0.2165, -0.0984,\n",
       "                       -0.1183, -0.1194, -0.1598, -0.0135, -0.0946, -0.0511, -0.0446, -0.0367,\n",
       "                       -0.1271, -0.0258, -0.0251,  0.0791, -0.0539, -0.1479, -0.0197, -0.1305,\n",
       "                       -0.0998, -0.1535,  0.0149, -0.0672, -0.1719, -0.0842, -0.0205, -0.0318,\n",
       "                       -0.0244, -0.0486, -0.0018, -0.1208, -0.0658, -0.1646, -0.0354, -0.0806,\n",
       "                       -0.0964, -0.0912,  0.0210, -0.0697, -0.0273, -0.1906, -0.0219, -0.0772,\n",
       "                       -0.1647, -0.1126, -0.0923, -0.0339, -0.1566,  0.1228, -0.1048,  0.2099,\n",
       "                       -0.0185, -0.1610, -0.1146, -0.1262, -0.1598, -0.1077, -0.0876, -0.0692,\n",
       "                       -0.0037, -0.1469, -0.0737, -0.1884, -0.1488,  0.0292, -0.1444, -0.1097,\n",
       "                       -0.1830, -0.0060, -0.1608, -0.1834, -0.0531, -0.0822, -0.1975, -0.1597,\n",
       "                       -0.1301, -0.0683, -0.0750,  0.0181, -0.1079, -0.0980, -0.0630, -0.0723,\n",
       "                       -0.1880, -0.0372, -0.2208, -0.0347, -0.0924, -0.0794, -0.0472, -0.0605,\n",
       "                       -0.1108, -0.0676, -0.1858, -0.1018, -0.1364, -0.0381, -0.1656, -0.2036])),\n",
       "              ('fc2.weight',\n",
       "               tensor([[-0.1497, -0.0706, -0.0032,  ...,  0.0482, -0.1351,  0.0096],\n",
       "                       [-0.0376, -0.0773, -0.0186,  ..., -0.0515, -0.0104, -0.0384],\n",
       "                       [ 0.0270, -0.0629,  0.0226,  ...,  0.0945, -0.2200,  0.0324],\n",
       "                       ...,\n",
       "                       [-0.0567,  0.0221, -0.0032,  ..., -0.0655,  0.0497,  0.0961],\n",
       "                       [-0.0370,  0.0369,  0.0428,  ..., -0.0750, -0.2203,  0.2591],\n",
       "                       [ 0.1020,  0.0124,  0.0296,  ..., -0.1642,  0.0503,  0.2050]])),\n",
       "              ('fc2.bias',\n",
       "               tensor([ 0.2008,  0.3065, -0.0376,  0.0173, -0.3027, -0.0373, -0.3561, -0.2707,\n",
       "                        0.5520, -0.2277,  0.3354, -0.4892,  0.2155,  0.0081,  0.4106,  0.2006,\n",
       "                       -0.0373, -0.0519, -0.2003,  0.0452, -0.5500,  0.1685, -0.0799, -0.0878,\n",
       "                       -0.2529,  0.1475,  0.2316,  0.0430,  0.2687,  0.1361, -0.1246, -0.0387,\n",
       "                       -0.1452, -0.1310, -0.6772,  0.1592, -0.2738,  0.2289,  0.0528, -0.3729,\n",
       "                        0.5305, -0.1136,  0.0426,  0.4383, -0.1238,  0.0590, -0.1723,  0.0016,\n",
       "                       -0.0102,  0.3717, -0.0749,  0.0984, -0.2269,  0.1850,  0.2615, -0.3580,\n",
       "                        0.0481,  0.2671, -0.2376, -0.1372,  0.3043, -0.1919, -0.2724,  0.3352,\n",
       "                        0.0597,  0.1252,  0.1055,  0.0219, -0.1337, -0.4101,  0.2994,  0.2039,\n",
       "                        0.2167, -0.0357, -0.3690, -0.5259,  0.4233, -0.2215,  0.3151,  0.1361,\n",
       "                        0.4554,  0.3841,  0.2500,  0.1401, -0.1884,  0.1171,  0.3342, -0.3298,\n",
       "                        0.0386,  0.2783,  0.2704,  0.3524,  0.0395, -0.5491,  0.2405,  0.2664,\n",
       "                        0.3120, -0.0570,  0.0265,  0.0147, -0.3083,  0.4826, -0.0585, -0.4211,\n",
       "                       -0.1353, -0.2678, -0.4468, -0.1075, -0.1004,  0.1461, -0.0601,  0.2640,\n",
       "                       -0.0369, -0.1060, -0.0719, -0.1365,  0.1509,  0.2327,  0.3740, -0.2594,\n",
       "                       -0.4787, -0.0812, -0.4524, -0.0798,  0.0359, -0.1289, -0.1947,  0.3179])),\n",
       "              ('fc3.weight',\n",
       "               tensor([[-0.1668, -0.0313,  0.0169,  ..., -0.3094,  0.1393, -0.2021],\n",
       "                       [-0.1194, -0.0631,  0.0225,  ...,  0.0782, -0.1788, -0.0513],\n",
       "                       [ 0.0865,  0.1216, -0.1677,  ...,  0.0901, -0.1456, -0.2701],\n",
       "                       ...,\n",
       "                       [ 0.1411, -0.1330, -0.2269,  ...,  0.0364,  0.1775, -0.1562],\n",
       "                       [-0.1038, -0.0016,  0.0563,  ..., -0.2152, -0.1928, -0.3330],\n",
       "                       [ 0.0869, -0.0561, -0.2786,  ..., -0.0923,  0.0468,  0.0102]])),\n",
       "              ('fc3.bias',\n",
       "               tensor([ 0.7361,  0.8435,  0.5597,  0.8391,  0.4566,  0.5712,  0.8337,  0.5561,\n",
       "                        0.1350,  0.6776,  0.7587,  0.5668,  0.5993,  0.8935,  0.3465,  0.3122,\n",
       "                        0.7912,  0.6091,  0.0806,  0.6727,  0.5512,  0.5816,  0.5724,  0.3000,\n",
       "                        0.2247,  0.7010,  0.2314,  0.5591,  0.4905,  0.9431,  0.4980,  0.6089,\n",
       "                        0.2873,  0.5540,  0.4865,  0.5513,  0.6250,  0.5912,  0.5623,  0.6236,\n",
       "                       -0.1153,  0.4564,  0.2379,  0.4894,  0.4487,  0.3751,  0.6787,  0.6297,\n",
       "                       -0.3851,  0.8246,  0.5134,  0.6633,  0.4760,  0.6151,  0.3675,  0.4819,\n",
       "                        0.7069,  0.3144,  0.3378,  0.6819,  0.3813,  0.5898, -0.0887, -0.2252])),\n",
       "              ('fc4.weight',\n",
       "               tensor([[ 0.1334,  0.1084,  0.0718,  0.0112,  0.0586,  0.0227,  0.0683, -0.1213,\n",
       "                        -0.1037,  0.0952,  0.0723,  0.0175, -0.1464,  0.1221, -0.0246, -0.1261,\n",
       "                         0.0180,  0.0098, -0.0361,  0.0015,  0.1063, -0.0176, -0.1952, -0.4761,\n",
       "                        -0.3133, -0.1461, -0.1878, -0.1128,  0.1308, -0.0296,  0.0248, -0.1122,\n",
       "                         0.0217,  0.1476, -0.0631,  0.1211,  0.1241,  0.0356,  0.0536,  0.0176,\n",
       "                         0.0336,  0.0082, -0.0911,  0.0829, -0.1569,  0.1300, -0.0635,  0.1107,\n",
       "                         0.0578,  0.0040, -0.0230, -0.0036, -0.1159, -0.0597, -0.2032,  0.0145,\n",
       "                        -0.5872, -0.3243, -0.0066, -0.1692, -0.0643, -0.3173,  0.0512, -0.0176],\n",
       "                       [ 0.0658, -0.2265,  0.1428, -0.1988,  0.0371,  0.0569, -0.2139, -0.0931,\n",
       "                         0.0267, -0.2869, -0.1294, -0.0186,  0.1020, -0.1918, -0.0648, -0.1348,\n",
       "                        -0.1591, -0.2372, -0.2221,  0.0221, -0.2877,  0.0307, -0.3136, -0.2731,\n",
       "                        -0.2430, -0.3328, -0.0861, -0.0945,  0.0784,  0.0168,  0.0665,  0.0259,\n",
       "                         0.1078,  0.1773, -0.2428,  0.1438, -0.0351, -0.0612,  0.1052,  0.1037,\n",
       "                        -0.3801, -0.0144,  0.0288,  0.0646, -0.2675, -0.1001, -0.2602, -0.0507,\n",
       "                         0.0571, -0.1458, -0.1826, -0.1804, -0.4914,  0.0169, -0.3924, -0.3623,\n",
       "                        -0.3287, -0.2088,  0.1199,  0.0589, -0.0242, -0.2870, -0.1289,  0.0547],\n",
       "                       [-0.0440,  0.0331, -0.0904,  0.0394, -0.0774,  0.1341, -0.2547,  0.1211,\n",
       "                        -0.0985,  0.1041,  0.0266, -0.1129,  0.1091,  0.0740, -0.2086, -0.1445,\n",
       "                         0.0709,  0.1137, -0.2211,  0.0879, -0.0068, -0.0625, -0.0131, -0.4417,\n",
       "                        -0.0357,  0.1195, -0.2831, -0.0732,  0.1141,  0.0927,  0.0431, -0.2150,\n",
       "                        -0.0874,  0.0300, -0.1733, -0.0630, -0.0281,  0.1002,  0.0565,  0.0867,\n",
       "                         0.0051, -0.0908, -0.1953, -0.0675, -0.0386, -0.0697, -0.0053,  0.1183,\n",
       "                        -0.0095, -0.0078, -0.1563,  0.1413, -0.1087,  0.0553, -0.1783, -0.0652,\n",
       "                        -0.5114, -0.2151, -0.1552, -0.0001, -0.0979, -0.3286,  0.0293, -0.0945],\n",
       "                       [ 0.1070, -0.0644,  0.1079, -0.2530,  0.0963, -0.0627, -0.0043, -0.5900,\n",
       "                        -0.0291, -0.0371, -0.1630, -0.0260, -0.1705,  0.0594, -0.3184, -0.0721,\n",
       "                         0.0824, -0.1461, -0.2928, -0.0451, -0.1627,  0.0881, -0.0053, -0.2374,\n",
       "                        -0.0297, -0.1803, -0.2262, -0.0468,  0.1290,  0.1316, -0.0693, -0.0183,\n",
       "                         0.1108,  0.0131, -0.1395,  0.1320,  0.0914, -0.0968,  0.0171,  0.0645,\n",
       "                         0.0227,  0.0800,  0.0510, -0.0498, -0.1669,  0.0002, -0.2178, -0.0244,\n",
       "                        -0.0890,  0.0583, -0.0478,  0.0882, -0.1998,  0.1007, -0.3178, -0.2655,\n",
       "                        -0.3199, -0.1261,  0.0409,  0.0605,  0.0387, -0.1904, -0.0107, -0.0176],\n",
       "                       [-0.1596, -0.0235,  0.0276,  0.0103, -0.0975,  0.1727, -0.2856,  0.0984,\n",
       "                        -0.1248, -0.0945, -0.0579,  0.0269,  0.1227,  0.0070, -0.2854, -0.2218,\n",
       "                         0.0659,  0.0113, -0.1721, -0.0182, -0.0740,  0.0640,  0.0794, -0.2234,\n",
       "                         0.0519,  0.1324, -0.2890, -0.0657,  0.0784, -0.0702, -0.1120, -0.2200,\n",
       "                         0.0585,  0.0039, -0.1359, -0.0458, -0.0444,  0.1260,  0.0779, -0.0115,\n",
       "                        -0.0215,  0.0708, -0.1736,  0.0254,  0.0406, -0.0187,  0.0169, -0.0545,\n",
       "                        -0.0295,  0.1102, -0.2580,  0.0948, -0.0004,  0.1377, -0.2870, -0.1574,\n",
       "                        -0.4672, -0.2444,  0.0745,  0.0650, -0.1135, -0.0980, -0.0491, -0.1705],\n",
       "                       [-0.2979, -0.4115, -0.2924,  0.1144,  0.1359, -0.1886, -0.0297, -0.7747,\n",
       "                         0.0161, -0.0727,  0.0826, -0.0606, -0.1199, -0.4621,  0.0097,  0.0852,\n",
       "                        -0.7378,  0.0476,  0.1435, -0.2595,  0.1074, -0.0963, -0.0084, -0.0657,\n",
       "                        -0.5194, -0.0252,  0.0676,  0.1078,  0.1435, -0.0368, -0.0769,  0.0969,\n",
       "                        -0.2040, -0.4617,  0.0009, -0.1008, -0.3110, -0.1026, -0.6234, -0.1842,\n",
       "                         0.1053,  0.0439,  0.0095, -0.3672,  0.1359,  0.0516, -0.4022,  0.0593,\n",
       "                        -0.0199, -0.2295,  0.1530, -0.2066,  0.0339, -0.1675,  0.1596,  0.0962,\n",
       "                         0.0568,  0.1260, -0.1765, -0.5582,  0.1296,  0.0854, -0.1106, -0.1348],\n",
       "                       [ 0.0803,  0.1113,  0.0197,  0.0574, -0.0282,  0.0312,  0.0674,  0.0803,\n",
       "                        -0.0862,  0.1423,  0.0259, -0.0587,  0.0776,  0.0963, -0.0853, -0.1802,\n",
       "                        -0.0097,  0.0834, -0.1585,  0.1683,  0.0537, -0.0393,  0.0250, -0.2318,\n",
       "                         0.0904,  0.1238, -0.2392, -0.2042,  0.0541,  0.0659, -0.0224, -0.1097,\n",
       "                         0.0106,  0.1392, -0.2654,  0.1055,  0.1170,  0.0098, -0.0531, -0.0004,\n",
       "                        -0.0286,  0.0568, -0.1645,  0.0921,  0.0493,  0.0954, -0.0989,  0.0111,\n",
       "                        -0.0559,  0.1192,  0.0020,  0.0370, -0.1213,  0.0503, -0.2888, -0.0255,\n",
       "                        -0.5000, -0.3091, -0.0292, -0.0608, -0.1449, -0.3748,  0.0273,  0.0041],\n",
       "                       [-0.7147, -0.3715, -0.5266,  0.1214, -0.0305, -0.1838,  0.1327, -0.9850,\n",
       "                         0.0794, -0.1044,  0.0628, -0.1100, -0.3232, -0.7645,  0.0898,  0.0395,\n",
       "                        -0.7383, -0.0779,  0.0393, -0.2994,  0.0078, -0.1286, -0.1169,  0.0913,\n",
       "                        -0.7705, -0.1745,  0.1007,  0.0569,  0.1214, -0.1830,  0.0476,  0.0950,\n",
       "                        -0.3415, -0.6415,  0.0442, -0.0698, -0.7673, -0.2104, -0.2392, -0.2184,\n",
       "                         0.0352, -0.1053,  0.1427, -0.5961,  0.0464, -0.0436, -0.5123,  0.0741,\n",
       "                        -0.0810, -0.3536,  0.0908, -0.0638,  0.1220, -0.3107,  0.1485,  0.1060,\n",
       "                         0.1376,  0.0748, -0.0240, -0.5039,  0.0138,  0.1657, -0.2627,  0.1120],\n",
       "                       [-0.0788,  0.1518, -0.1491,  0.1384,  0.0459,  0.0797, -0.1570, -0.2933,\n",
       "                        -0.1185,  0.0561, -0.3149,  0.0742, -0.1667, -0.1930,  0.0358, -0.1434,\n",
       "                        -0.3297, -0.1295,  0.0087,  0.0777,  0.1224,  0.0677,  0.0018, -0.1901,\n",
       "                        -0.5623, -0.2307, -0.0724,  0.0450, -0.1862,  0.0316,  0.0506, -0.0109,\n",
       "                         0.0658, -0.0643,  0.0516, -0.0216, -0.0374,  0.1111, -0.1552, -0.1739,\n",
       "                        -0.0319,  0.0195, -0.1223, -0.1306, -0.0681, -0.1810, -0.0215,  0.0177,\n",
       "                        -0.0219,  0.0157,  0.0786, -0.2343,  0.0635, -0.1184, -0.0410,  0.0973,\n",
       "                        -0.1073, -0.1593,  0.0994, -0.1504, -0.2707, -0.0242,  0.0250,  0.0201],\n",
       "                       [-0.2902, -0.4808, -0.5214, -0.2147,  0.1367, -0.3277,  0.1201, -0.7314,\n",
       "                         0.0213,  0.0351,  0.0909, -0.2547, -0.2184, -0.4085,  0.0272,  0.1529,\n",
       "                        -1.0071, -0.1256,  0.1178, -0.1271,  0.0712, -0.2518, -0.1224,  0.1008,\n",
       "                        -0.6129, -0.1603,  0.0006,  0.0708, -0.2913, -0.2547,  0.0837, -0.0300,\n",
       "                        -0.2905, -0.4717, -0.0072, -0.2863, -0.4218, -0.2238, -0.3324, -0.3158,\n",
       "                         0.0349, -0.0827,  0.1177, -0.5014, -0.0150, -0.1256, -0.8147,  0.0405,\n",
       "                        -0.0482, -0.3535, -0.0164, -0.0547,  0.1014, -0.3732,  0.0809, -0.0239,\n",
       "                         0.1419,  0.1052, -0.0247, -0.5779,  0.1335,  0.0905, -0.2065, -0.0832]])),\n",
       "              ('fc4.bias',\n",
       "               tensor([-0.2071, -0.7001,  0.1497,  0.1563,  0.1088, -0.2221, -0.0044,  0.1623,\n",
       "                        0.1173, -0.3169]))])}"
      ]
     },
     "execution_count": 78,
     "metadata": {},
     "output_type": "execute_result"
    }
   ],
   "source": [
    "arquitectura =[(x,*y.shape) for x,y in model.state_dict().items()]\n",
    "checkpoint ={'architecture':arquitectura,\n",
    "            'state_dict':model.state_dict()}\n",
    "torch.save(checkpoint,'checkpoint.pth')\n",
    "checkpoint"
   ]
  },
  {
   "cell_type": "markdown",
   "metadata": {},
   "source": [
    "### cargar modelo"
   ]
  },
  {
   "cell_type": "code",
   "execution_count": 79,
   "metadata": {},
   "outputs": [
    {
     "data": {
      "text/plain": [
       "{'architecture': [('fc1.weight', 256, 784),\n",
       "  ('fc1.bias', 256),\n",
       "  ('fc2.weight', 128, 256),\n",
       "  ('fc2.bias', 128),\n",
       "  ('fc3.weight', 64, 128),\n",
       "  ('fc3.bias', 64),\n",
       "  ('fc4.weight', 10, 64),\n",
       "  ('fc4.bias', 10)],\n",
       " 'state_dict': OrderedDict([('fc1.weight',\n",
       "               tensor([[ 0.1627,  0.1251,  0.0979,  ...,  0.1854,  0.1368,  0.1274],\n",
       "                       [ 0.0140,  0.0205,  0.0277,  ...,  0.0412,  0.0688,  0.0024],\n",
       "                       [ 0.0171,  0.0211,  0.0596,  ..., -0.0023,  0.0289,  0.0619],\n",
       "                       ...,\n",
       "                       [ 0.0834,  0.0846,  0.0171,  ...,  0.0298,  0.0643,  0.1004],\n",
       "                       [ 0.1508,  0.1505,  0.1451,  ...,  0.1549,  0.1626,  0.1668],\n",
       "                       [ 0.2063,  0.1641,  0.2125,  ...,  0.2164,  0.2311,  0.1780]])),\n",
       "              ('fc1.bias',\n",
       "               tensor([-0.1532, -0.0661, -0.0104, -0.2076, -0.0469, -0.0402, -0.2213, -0.0756,\n",
       "                       -0.0929, -0.1459, -0.1208, -0.0973, -0.1039, -0.1041, -0.0484, -0.2054,\n",
       "                       -0.0447, -0.1659, -0.0704,  0.0033, -0.0293, -0.1164, -0.1005, -0.0588,\n",
       "                       -0.2037, -0.1793, -0.0606, -0.1259, -0.0804,  0.0122, -0.0462, -0.1714,\n",
       "                        0.2110, -0.0262,  0.0198, -0.0809, -0.0873, -0.0627, -0.0405, -0.0741,\n",
       "                       -0.0532, -0.1067,  0.0718, -0.1728, -0.0819, -0.0662, -0.1342, -0.0206,\n",
       "                       -0.0036, -0.0663, -0.0804, -0.1257, -0.1706, -0.1002, -0.0806, -0.0490,\n",
       "                       -0.0661, -0.1221, -0.0319, -0.0066, -0.1172, -0.0879, -0.1205, -0.2115,\n",
       "                       -0.1220, -0.0827, -0.1141, -0.0480, -0.1375, -0.0744, -0.1477, -0.0513,\n",
       "                       -0.0897, -0.1123, -0.0728, -0.1191, -0.0953, -0.0042, -0.1495, -0.1497,\n",
       "                       -0.1213, -0.1014, -0.0523, -0.0460, -0.0275, -0.0893, -0.0497, -0.0833,\n",
       "                       -0.0650, -0.0308, -0.0094, -0.0415, -0.0156, -0.0450, -0.0639, -0.0914,\n",
       "                       -0.0104, -0.0436, -0.0724, -0.0830, -0.0770, -0.0975,  0.0329, -0.0885,\n",
       "                       -0.1064, -0.0765, -0.1223, -0.1003, -0.0751, -0.1919, -0.1181, -0.0503,\n",
       "                       -0.0474, -0.0559, -0.1624, -0.0978, -0.1409, -0.1414,  0.0102, -0.0971,\n",
       "                        0.0634, -0.0809, -0.1342, -0.1368, -0.1024, -0.0672, -0.1296, -0.0043,\n",
       "                       -0.0670, -0.0027, -0.1097, -0.1983, -0.0223,  0.0336, -0.1578, -0.0993,\n",
       "                       -0.0966, -0.0772, -0.1289, -0.0933, -0.0434, -0.1641, -0.1297,  0.0110,\n",
       "                       -0.0545, -0.0841, -0.0526, -0.0712, -0.1060, -0.0384, -0.2010, -0.1135,\n",
       "                       -0.1473, -0.1416,  0.1015, -0.0229,  0.0244, -0.0790, -0.2165, -0.0984,\n",
       "                       -0.1183, -0.1194, -0.1598, -0.0135, -0.0946, -0.0511, -0.0446, -0.0367,\n",
       "                       -0.1271, -0.0258, -0.0251,  0.0791, -0.0539, -0.1479, -0.0197, -0.1305,\n",
       "                       -0.0998, -0.1535,  0.0149, -0.0672, -0.1719, -0.0842, -0.0205, -0.0318,\n",
       "                       -0.0244, -0.0486, -0.0018, -0.1208, -0.0658, -0.1646, -0.0354, -0.0806,\n",
       "                       -0.0964, -0.0912,  0.0210, -0.0697, -0.0273, -0.1906, -0.0219, -0.0772,\n",
       "                       -0.1647, -0.1126, -0.0923, -0.0339, -0.1566,  0.1228, -0.1048,  0.2099,\n",
       "                       -0.0185, -0.1610, -0.1146, -0.1262, -0.1598, -0.1077, -0.0876, -0.0692,\n",
       "                       -0.0037, -0.1469, -0.0737, -0.1884, -0.1488,  0.0292, -0.1444, -0.1097,\n",
       "                       -0.1830, -0.0060, -0.1608, -0.1834, -0.0531, -0.0822, -0.1975, -0.1597,\n",
       "                       -0.1301, -0.0683, -0.0750,  0.0181, -0.1079, -0.0980, -0.0630, -0.0723,\n",
       "                       -0.1880, -0.0372, -0.2208, -0.0347, -0.0924, -0.0794, -0.0472, -0.0605,\n",
       "                       -0.1108, -0.0676, -0.1858, -0.1018, -0.1364, -0.0381, -0.1656, -0.2036])),\n",
       "              ('fc2.weight',\n",
       "               tensor([[-0.1497, -0.0706, -0.0032,  ...,  0.0482, -0.1351,  0.0096],\n",
       "                       [-0.0376, -0.0773, -0.0186,  ..., -0.0515, -0.0104, -0.0384],\n",
       "                       [ 0.0270, -0.0629,  0.0226,  ...,  0.0945, -0.2200,  0.0324],\n",
       "                       ...,\n",
       "                       [-0.0567,  0.0221, -0.0032,  ..., -0.0655,  0.0497,  0.0961],\n",
       "                       [-0.0370,  0.0369,  0.0428,  ..., -0.0750, -0.2203,  0.2591],\n",
       "                       [ 0.1020,  0.0124,  0.0296,  ..., -0.1642,  0.0503,  0.2050]])),\n",
       "              ('fc2.bias',\n",
       "               tensor([ 0.2008,  0.3065, -0.0376,  0.0173, -0.3027, -0.0373, -0.3561, -0.2707,\n",
       "                        0.5520, -0.2277,  0.3354, -0.4892,  0.2155,  0.0081,  0.4106,  0.2006,\n",
       "                       -0.0373, -0.0519, -0.2003,  0.0452, -0.5500,  0.1685, -0.0799, -0.0878,\n",
       "                       -0.2529,  0.1475,  0.2316,  0.0430,  0.2687,  0.1361, -0.1246, -0.0387,\n",
       "                       -0.1452, -0.1310, -0.6772,  0.1592, -0.2738,  0.2289,  0.0528, -0.3729,\n",
       "                        0.5305, -0.1136,  0.0426,  0.4383, -0.1238,  0.0590, -0.1723,  0.0016,\n",
       "                       -0.0102,  0.3717, -0.0749,  0.0984, -0.2269,  0.1850,  0.2615, -0.3580,\n",
       "                        0.0481,  0.2671, -0.2376, -0.1372,  0.3043, -0.1919, -0.2724,  0.3352,\n",
       "                        0.0597,  0.1252,  0.1055,  0.0219, -0.1337, -0.4101,  0.2994,  0.2039,\n",
       "                        0.2167, -0.0357, -0.3690, -0.5259,  0.4233, -0.2215,  0.3151,  0.1361,\n",
       "                        0.4554,  0.3841,  0.2500,  0.1401, -0.1884,  0.1171,  0.3342, -0.3298,\n",
       "                        0.0386,  0.2783,  0.2704,  0.3524,  0.0395, -0.5491,  0.2405,  0.2664,\n",
       "                        0.3120, -0.0570,  0.0265,  0.0147, -0.3083,  0.4826, -0.0585, -0.4211,\n",
       "                       -0.1353, -0.2678, -0.4468, -0.1075, -0.1004,  0.1461, -0.0601,  0.2640,\n",
       "                       -0.0369, -0.1060, -0.0719, -0.1365,  0.1509,  0.2327,  0.3740, -0.2594,\n",
       "                       -0.4787, -0.0812, -0.4524, -0.0798,  0.0359, -0.1289, -0.1947,  0.3179])),\n",
       "              ('fc3.weight',\n",
       "               tensor([[-0.1668, -0.0313,  0.0169,  ..., -0.3094,  0.1393, -0.2021],\n",
       "                       [-0.1194, -0.0631,  0.0225,  ...,  0.0782, -0.1788, -0.0513],\n",
       "                       [ 0.0865,  0.1216, -0.1677,  ...,  0.0901, -0.1456, -0.2701],\n",
       "                       ...,\n",
       "                       [ 0.1411, -0.1330, -0.2269,  ...,  0.0364,  0.1775, -0.1562],\n",
       "                       [-0.1038, -0.0016,  0.0563,  ..., -0.2152, -0.1928, -0.3330],\n",
       "                       [ 0.0869, -0.0561, -0.2786,  ..., -0.0923,  0.0468,  0.0102]])),\n",
       "              ('fc3.bias',\n",
       "               tensor([ 0.7361,  0.8435,  0.5597,  0.8391,  0.4566,  0.5712,  0.8337,  0.5561,\n",
       "                        0.1350,  0.6776,  0.7587,  0.5668,  0.5993,  0.8935,  0.3465,  0.3122,\n",
       "                        0.7912,  0.6091,  0.0806,  0.6727,  0.5512,  0.5816,  0.5724,  0.3000,\n",
       "                        0.2247,  0.7010,  0.2314,  0.5591,  0.4905,  0.9431,  0.4980,  0.6089,\n",
       "                        0.2873,  0.5540,  0.4865,  0.5513,  0.6250,  0.5912,  0.5623,  0.6236,\n",
       "                       -0.1153,  0.4564,  0.2379,  0.4894,  0.4487,  0.3751,  0.6787,  0.6297,\n",
       "                       -0.3851,  0.8246,  0.5134,  0.6633,  0.4760,  0.6151,  0.3675,  0.4819,\n",
       "                        0.7069,  0.3144,  0.3378,  0.6819,  0.3813,  0.5898, -0.0887, -0.2252])),\n",
       "              ('fc4.weight',\n",
       "               tensor([[ 0.1334,  0.1084,  0.0718,  0.0112,  0.0586,  0.0227,  0.0683, -0.1213,\n",
       "                        -0.1037,  0.0952,  0.0723,  0.0175, -0.1464,  0.1221, -0.0246, -0.1261,\n",
       "                         0.0180,  0.0098, -0.0361,  0.0015,  0.1063, -0.0176, -0.1952, -0.4761,\n",
       "                        -0.3133, -0.1461, -0.1878, -0.1128,  0.1308, -0.0296,  0.0248, -0.1122,\n",
       "                         0.0217,  0.1476, -0.0631,  0.1211,  0.1241,  0.0356,  0.0536,  0.0176,\n",
       "                         0.0336,  0.0082, -0.0911,  0.0829, -0.1569,  0.1300, -0.0635,  0.1107,\n",
       "                         0.0578,  0.0040, -0.0230, -0.0036, -0.1159, -0.0597, -0.2032,  0.0145,\n",
       "                        -0.5872, -0.3243, -0.0066, -0.1692, -0.0643, -0.3173,  0.0512, -0.0176],\n",
       "                       [ 0.0658, -0.2265,  0.1428, -0.1988,  0.0371,  0.0569, -0.2139, -0.0931,\n",
       "                         0.0267, -0.2869, -0.1294, -0.0186,  0.1020, -0.1918, -0.0648, -0.1348,\n",
       "                        -0.1591, -0.2372, -0.2221,  0.0221, -0.2877,  0.0307, -0.3136, -0.2731,\n",
       "                        -0.2430, -0.3328, -0.0861, -0.0945,  0.0784,  0.0168,  0.0665,  0.0259,\n",
       "                         0.1078,  0.1773, -0.2428,  0.1438, -0.0351, -0.0612,  0.1052,  0.1037,\n",
       "                        -0.3801, -0.0144,  0.0288,  0.0646, -0.2675, -0.1001, -0.2602, -0.0507,\n",
       "                         0.0571, -0.1458, -0.1826, -0.1804, -0.4914,  0.0169, -0.3924, -0.3623,\n",
       "                        -0.3287, -0.2088,  0.1199,  0.0589, -0.0242, -0.2870, -0.1289,  0.0547],\n",
       "                       [-0.0440,  0.0331, -0.0904,  0.0394, -0.0774,  0.1341, -0.2547,  0.1211,\n",
       "                        -0.0985,  0.1041,  0.0266, -0.1129,  0.1091,  0.0740, -0.2086, -0.1445,\n",
       "                         0.0709,  0.1137, -0.2211,  0.0879, -0.0068, -0.0625, -0.0131, -0.4417,\n",
       "                        -0.0357,  0.1195, -0.2831, -0.0732,  0.1141,  0.0927,  0.0431, -0.2150,\n",
       "                        -0.0874,  0.0300, -0.1733, -0.0630, -0.0281,  0.1002,  0.0565,  0.0867,\n",
       "                         0.0051, -0.0908, -0.1953, -0.0675, -0.0386, -0.0697, -0.0053,  0.1183,\n",
       "                        -0.0095, -0.0078, -0.1563,  0.1413, -0.1087,  0.0553, -0.1783, -0.0652,\n",
       "                        -0.5114, -0.2151, -0.1552, -0.0001, -0.0979, -0.3286,  0.0293, -0.0945],\n",
       "                       [ 0.1070, -0.0644,  0.1079, -0.2530,  0.0963, -0.0627, -0.0043, -0.5900,\n",
       "                        -0.0291, -0.0371, -0.1630, -0.0260, -0.1705,  0.0594, -0.3184, -0.0721,\n",
       "                         0.0824, -0.1461, -0.2928, -0.0451, -0.1627,  0.0881, -0.0053, -0.2374,\n",
       "                        -0.0297, -0.1803, -0.2262, -0.0468,  0.1290,  0.1316, -0.0693, -0.0183,\n",
       "                         0.1108,  0.0131, -0.1395,  0.1320,  0.0914, -0.0968,  0.0171,  0.0645,\n",
       "                         0.0227,  0.0800,  0.0510, -0.0498, -0.1669,  0.0002, -0.2178, -0.0244,\n",
       "                        -0.0890,  0.0583, -0.0478,  0.0882, -0.1998,  0.1007, -0.3178, -0.2655,\n",
       "                        -0.3199, -0.1261,  0.0409,  0.0605,  0.0387, -0.1904, -0.0107, -0.0176],\n",
       "                       [-0.1596, -0.0235,  0.0276,  0.0103, -0.0975,  0.1727, -0.2856,  0.0984,\n",
       "                        -0.1248, -0.0945, -0.0579,  0.0269,  0.1227,  0.0070, -0.2854, -0.2218,\n",
       "                         0.0659,  0.0113, -0.1721, -0.0182, -0.0740,  0.0640,  0.0794, -0.2234,\n",
       "                         0.0519,  0.1324, -0.2890, -0.0657,  0.0784, -0.0702, -0.1120, -0.2200,\n",
       "                         0.0585,  0.0039, -0.1359, -0.0458, -0.0444,  0.1260,  0.0779, -0.0115,\n",
       "                        -0.0215,  0.0708, -0.1736,  0.0254,  0.0406, -0.0187,  0.0169, -0.0545,\n",
       "                        -0.0295,  0.1102, -0.2580,  0.0948, -0.0004,  0.1377, -0.2870, -0.1574,\n",
       "                        -0.4672, -0.2444,  0.0745,  0.0650, -0.1135, -0.0980, -0.0491, -0.1705],\n",
       "                       [-0.2979, -0.4115, -0.2924,  0.1144,  0.1359, -0.1886, -0.0297, -0.7747,\n",
       "                         0.0161, -0.0727,  0.0826, -0.0606, -0.1199, -0.4621,  0.0097,  0.0852,\n",
       "                        -0.7378,  0.0476,  0.1435, -0.2595,  0.1074, -0.0963, -0.0084, -0.0657,\n",
       "                        -0.5194, -0.0252,  0.0676,  0.1078,  0.1435, -0.0368, -0.0769,  0.0969,\n",
       "                        -0.2040, -0.4617,  0.0009, -0.1008, -0.3110, -0.1026, -0.6234, -0.1842,\n",
       "                         0.1053,  0.0439,  0.0095, -0.3672,  0.1359,  0.0516, -0.4022,  0.0593,\n",
       "                        -0.0199, -0.2295,  0.1530, -0.2066,  0.0339, -0.1675,  0.1596,  0.0962,\n",
       "                         0.0568,  0.1260, -0.1765, -0.5582,  0.1296,  0.0854, -0.1106, -0.1348],\n",
       "                       [ 0.0803,  0.1113,  0.0197,  0.0574, -0.0282,  0.0312,  0.0674,  0.0803,\n",
       "                        -0.0862,  0.1423,  0.0259, -0.0587,  0.0776,  0.0963, -0.0853, -0.1802,\n",
       "                        -0.0097,  0.0834, -0.1585,  0.1683,  0.0537, -0.0393,  0.0250, -0.2318,\n",
       "                         0.0904,  0.1238, -0.2392, -0.2042,  0.0541,  0.0659, -0.0224, -0.1097,\n",
       "                         0.0106,  0.1392, -0.2654,  0.1055,  0.1170,  0.0098, -0.0531, -0.0004,\n",
       "                        -0.0286,  0.0568, -0.1645,  0.0921,  0.0493,  0.0954, -0.0989,  0.0111,\n",
       "                        -0.0559,  0.1192,  0.0020,  0.0370, -0.1213,  0.0503, -0.2888, -0.0255,\n",
       "                        -0.5000, -0.3091, -0.0292, -0.0608, -0.1449, -0.3748,  0.0273,  0.0041],\n",
       "                       [-0.7147, -0.3715, -0.5266,  0.1214, -0.0305, -0.1838,  0.1327, -0.9850,\n",
       "                         0.0794, -0.1044,  0.0628, -0.1100, -0.3232, -0.7645,  0.0898,  0.0395,\n",
       "                        -0.7383, -0.0779,  0.0393, -0.2994,  0.0078, -0.1286, -0.1169,  0.0913,\n",
       "                        -0.7705, -0.1745,  0.1007,  0.0569,  0.1214, -0.1830,  0.0476,  0.0950,\n",
       "                        -0.3415, -0.6415,  0.0442, -0.0698, -0.7673, -0.2104, -0.2392, -0.2184,\n",
       "                         0.0352, -0.1053,  0.1427, -0.5961,  0.0464, -0.0436, -0.5123,  0.0741,\n",
       "                        -0.0810, -0.3536,  0.0908, -0.0638,  0.1220, -0.3107,  0.1485,  0.1060,\n",
       "                         0.1376,  0.0748, -0.0240, -0.5039,  0.0138,  0.1657, -0.2627,  0.1120],\n",
       "                       [-0.0788,  0.1518, -0.1491,  0.1384,  0.0459,  0.0797, -0.1570, -0.2933,\n",
       "                        -0.1185,  0.0561, -0.3149,  0.0742, -0.1667, -0.1930,  0.0358, -0.1434,\n",
       "                        -0.3297, -0.1295,  0.0087,  0.0777,  0.1224,  0.0677,  0.0018, -0.1901,\n",
       "                        -0.5623, -0.2307, -0.0724,  0.0450, -0.1862,  0.0316,  0.0506, -0.0109,\n",
       "                         0.0658, -0.0643,  0.0516, -0.0216, -0.0374,  0.1111, -0.1552, -0.1739,\n",
       "                        -0.0319,  0.0195, -0.1223, -0.1306, -0.0681, -0.1810, -0.0215,  0.0177,\n",
       "                        -0.0219,  0.0157,  0.0786, -0.2343,  0.0635, -0.1184, -0.0410,  0.0973,\n",
       "                        -0.1073, -0.1593,  0.0994, -0.1504, -0.2707, -0.0242,  0.0250,  0.0201],\n",
       "                       [-0.2902, -0.4808, -0.5214, -0.2147,  0.1367, -0.3277,  0.1201, -0.7314,\n",
       "                         0.0213,  0.0351,  0.0909, -0.2547, -0.2184, -0.4085,  0.0272,  0.1529,\n",
       "                        -1.0071, -0.1256,  0.1178, -0.1271,  0.0712, -0.2518, -0.1224,  0.1008,\n",
       "                        -0.6129, -0.1603,  0.0006,  0.0708, -0.2913, -0.2547,  0.0837, -0.0300,\n",
       "                        -0.2905, -0.4717, -0.0072, -0.2863, -0.4218, -0.2238, -0.3324, -0.3158,\n",
       "                         0.0349, -0.0827,  0.1177, -0.5014, -0.0150, -0.1256, -0.8147,  0.0405,\n",
       "                        -0.0482, -0.3535, -0.0164, -0.0547,  0.1014, -0.3732,  0.0809, -0.0239,\n",
       "                         0.1419,  0.1052, -0.0247, -0.5779,  0.1335,  0.0905, -0.2065, -0.0832]])),\n",
       "              ('fc4.bias',\n",
       "               tensor([-0.2071, -0.7001,  0.1497,  0.1563,  0.1088, -0.2221, -0.0044,  0.1623,\n",
       "                        0.1173, -0.3169]))])}"
      ]
     },
     "execution_count": 79,
     "metadata": {},
     "output_type": "execute_result"
    }
   ],
   "source": [
    "model2=torch.load('checkpoint.pth')\n",
    "model2"
   ]
  },
  {
   "cell_type": "code",
   "execution_count": null,
   "metadata": {},
   "outputs": [],
   "source": []
  }
 ],
 "metadata": {
  "kernelspec": {
   "display_name": "Python 3",
   "language": "python",
   "name": "python3"
  },
  "language_info": {
   "codemirror_mode": {
    "name": "ipython",
    "version": 3
   },
   "file_extension": ".py",
   "mimetype": "text/x-python",
   "name": "python",
   "nbconvert_exporter": "python",
   "pygments_lexer": "ipython3",
   "version": "3.5.5"
  }
 },
 "nbformat": 4,
 "nbformat_minor": 2
}
