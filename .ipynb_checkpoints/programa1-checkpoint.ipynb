{
 "cells": [
  {
   "cell_type": "code",
   "execution_count": 14,
   "metadata": {},
   "outputs": [],
   "source": [
    "import numpy as np\n",
    "import torch\n",
    "import matplotlib.pyplot as plt"
   ]
  },
  {
   "cell_type": "code",
   "execution_count": 3,
   "metadata": {},
   "outputs": [
    {
     "name": "stdout",
     "output_type": "stream",
     "text": [
      "Downloading http://yann.lecun.com/exdb/mnist/train-images-idx3-ubyte.gz\n",
      "Downloading http://yann.lecun.com/exdb/mnist/train-labels-idx1-ubyte.gz\n",
      "Downloading http://yann.lecun.com/exdb/mnist/t10k-images-idx3-ubyte.gz\n",
      "Downloading http://yann.lecun.com/exdb/mnist/t10k-labels-idx1-ubyte.gz\n",
      "Processing...\n",
      "Done!\n"
     ]
    }
   ],
   "source": [
    "from torchvision import datasets,transforms\n",
    "transform=transforms.Compose([transforms.ToTensor(),\n",
    "                             transforms.Normalize((0.5,0.5,0.5),(0.5,0.5,0.5)),\n",
    "                             ])\n",
    "##transforms.Compose() sirve para agrupar todas las transformaciones que se van a aplicar a cada imagen \n",
    "trainset=datasets.MNIST('MNIST_data/',download=True,train=True,transform=transform)\n",
    "## train (bool, optional) – If True, creates dataset from training.pt, otherwise from test.pt.\n",
    "trainloader=torch.utils.data.DataLoader(trainset,batch_size=64,shuffle=True)\n",
    "## el conjunto de entrenamiento se carga en el trainloader "
   ]
  },
  {
   "cell_type": "code",
   "execution_count": 4,
   "metadata": {},
   "outputs": [
    {
     "name": "stdout",
     "output_type": "stream",
     "text": [
      "<class 'torch.Tensor'>\n",
      "torch.Size([64, 1, 28, 28])\n",
      "torch.Size([64])\n"
     ]
    }
   ],
   "source": [
    "dataiter=iter(trainloader)\n",
    "images,labels=dataiter.next()\n",
    "print(type(images))\n",
    "print(images.shape)\n",
    "print(labels.shape)"
   ]
  },
  {
   "cell_type": "code",
   "execution_count": 5,
   "metadata": {},
   "outputs": [
    {
     "data": {
      "text/plain": [
       "<matplotlib.image.AxesImage at 0x660336cda0>"
      ]
     },
     "execution_count": 5,
     "metadata": {},
     "output_type": "execute_result"
    },
    {
     "data": {
      "image/png": "[encoded data removed]",
      "text/plain": [
       "<Figure size 432x288 with 1 Axes>"
      ]
     },
     "metadata": {},
     "output_type": "display_data"
    }
   ],
   "source": [
    "plt.imshow(images[1].numpy().squeeze(),cmap='Greys_r')"
   ]
  },
  {
   "cell_type": "code",
   "execution_count": 7,
   "metadata": {},
   "outputs": [
    {
     "name": "stdout",
     "output_type": "stream",
     "text": [
      "tensor([[  3.9227,  -4.0264,   6.2224,   4.5803,  -2.1678,   4.1646,  13.6383,\n",
      "          10.0659,  -2.7671,   8.0934],\n",
      "        [ -2.3891, -10.9527,   0.8951,   1.5820,  -4.8569,   8.0779,  22.9225,\n",
      "          15.0028,  -5.0901,  15.4655],\n",
      "        [  6.5323,  -8.7048,  16.0876,  -2.5523,  -8.1689,   5.0018,  19.9840,\n",
      "          13.2509,  -1.5401,   7.2349],\n",
      "        [  7.0326, -19.1578,  11.3573,   2.2662,  -6.2688,   9.6866,  18.6917,\n",
      "          18.2772,   1.9165,  10.5597],\n",
      "        [ -0.7319, -10.3716,   5.4673,  -6.3599,  -5.3977,   5.9808,  19.1394,\n",
      "          13.4349,  -9.0994,  11.8841],\n",
      "        [  1.8918, -14.4412,   7.4338,  -0.7887,  -4.7051,  17.0857,   9.6690,\n",
      "          21.6406,   0.3739,   8.2804],\n",
      "        [  8.1201, -11.5834,   8.4988, -12.4205,  -1.1518,   9.0411,   4.4703,\n",
      "          12.8226,  -9.4959,   8.0634],\n",
      "        [  3.2673,  -9.3510,   0.6208,  -6.4004, -11.4275,   5.7561,  15.8360,\n",
      "          15.0743,   1.9947,  10.2793],\n",
      "        [ 12.1158, -11.4601,   8.2027,  -9.8082,  -2.7814,   8.2332,  16.1113,\n",
      "          10.8695,  -2.8869,   5.7519],\n",
      "        [  2.4580,  -8.1147,  -3.2155,  -3.8364,  -9.9381,   4.7329,  18.8345,\n",
      "          22.7217,  -5.7920,  11.4490],\n",
      "        [  2.3498, -13.2676,  12.3610,  -7.4163, -14.2037,  -5.3895,  20.1188,\n",
      "          18.7599,   0.2009,   5.7530],\n",
      "        [  1.0633,  -6.5683,   9.3739,   4.6718,  -4.9926,   7.6821,  13.5896,\n",
      "          30.1961,  -4.4265,  14.5368],\n",
      "        [ -4.1870,  -6.6871,   4.0303,   4.8165,  -7.1351,   4.1633,  21.5022,\n",
      "          14.0252,   6.6874,  15.7161],\n",
      "        [  4.4130,  -9.8218,  16.8032,  -9.9572,  -7.8548,   3.7136,  16.6504,\n",
      "          10.5084,  -0.1207,  11.4799],\n",
      "        [ -6.5692,  -9.0737,  10.3926,  -0.1024,  -2.7718,   4.5421,  11.7618,\n",
      "          22.3172,   1.8151,   8.6045],\n",
      "        [ -4.1781, -11.3092,  13.7250,  -0.4073, -10.8309,   1.3847,  17.5636,\n",
      "          21.8372,  -4.0360,   2.1958],\n",
      "        [ -5.6063, -12.8446,   6.6882,   7.2489,   2.8510,   8.4760,  19.5879,\n",
      "          11.1341,  -9.5287,   2.3802],\n",
      "        [  4.3722, -10.6722,  -1.7681,  -1.8602, -12.6175,   0.1259,  25.0927,\n",
      "           8.0963,  -0.5183,   1.2093],\n",
      "        [  1.1620,  -6.6187,  10.1004,  -5.5750,  -9.1772,  -2.9770,  16.8156,\n",
      "          17.9279,  -5.0529,  18.6425],\n",
      "        [ -7.2418,  -9.6912,   8.7512,  -5.0007, -12.6431,  -4.4705,  18.5699,\n",
      "          15.0908,   3.2306,   7.1798],\n",
      "        [  0.3568,  -2.4713,   4.3562,  -1.7036,   0.2193,   2.0862,  16.9336,\n",
      "          17.0004,  10.4481,   9.9823],\n",
      "        [  3.7853, -15.4082,  12.1468, -11.2990,   0.8446,   8.3998,   6.2554,\n",
      "          18.3380,  -2.5650,   4.0150],\n",
      "        [ -0.9052,  -9.4107,   0.0101,   0.8048,  -5.4807,   5.3369,  22.6936,\n",
      "          20.7847,   5.2677,   9.6240],\n",
      "        [  8.2546, -10.7271,   4.5804,  -0.5158,  -4.4884,   2.3947,  18.6051,\n",
      "          17.2646,  -3.6276,   0.8451],\n",
      "        [  0.5137,  -9.7025,   6.7873,  -0.9394,  -6.5550,   0.7368,  19.2513,\n",
      "          20.8227,   2.9406,  15.0983],\n",
      "        [ -3.0885,  -2.9494,  15.7143,   6.5257,  -1.0304,   6.9586,  19.9000,\n",
      "          27.4026,  -1.8321,  18.6869],\n",
      "        [  1.7973, -18.8616,  10.0995,   2.3353,  -4.3666,  -4.7412,  18.2742,\n",
      "          19.6453,   1.3069,   6.9531],\n",
      "        [ -3.6452,  -8.8002,   7.2672,   6.0676,  -4.2472,  13.7721,  17.7565,\n",
      "          14.9520,   9.6363,  10.1476],\n",
      "        [  4.1070,  -5.3221,   1.0532,  -0.5890,  -9.1845,   9.1611,  17.8109,\n",
      "          28.1864,  -1.5791,  16.0905],\n",
      "        [  5.8473,  -7.7454,  -2.9372,   1.3727,   4.0342,   4.4142,  28.4816,\n",
      "          18.7141,   9.6876,   7.0095],\n",
      "        [ -2.5625,  -8.7888,   5.2807,  -2.3206,  -2.3505,  11.6427,  13.4146,\n",
      "          18.7684,   0.4440,   7.2544],\n",
      "        [ -0.0742,  -7.3560,   1.9301,   1.0410,  -4.1278,   6.1107,  11.8826,\n",
      "           7.0490,  -5.7460,   6.7843],\n",
      "        [ 10.7132,  -9.6394,  10.5837,   2.4846,   2.5128,   2.5437,  15.8600,\n",
      "          17.4524,  -1.1735,   4.2403],\n",
      "        [  2.9363,  -2.7204,   8.4011,   2.3352,  -2.6335,  -4.3765,  25.6638,\n",
      "           9.6406,  -0.5687,  -1.6255],\n",
      "        [  7.1213, -16.7326,  11.6310,   1.2886,  -6.6417,  -3.4477,  12.2679,\n",
      "          19.9793,   1.3811,   1.2804],\n",
      "        [  4.5583,  -5.9632,   5.4898,  -3.2826,  -6.7593,   5.0667,  21.4387,\n",
      "          20.7841,  -2.3650,  16.5529],\n",
      "        [ -3.8514,  -5.4454,   9.9328,  -1.4198,  -0.9114,   0.6100,  31.4873,\n",
      "          25.0461,   8.4529,  10.1241],\n",
      "        [  0.7678, -12.3907,  14.6475, -11.8226,   2.7308,  -1.0204,  13.8050,\n",
      "          17.4966,  -1.2200,  11.2449],\n",
      "        [ -0.3507, -14.2878,  -5.3439,  -4.1542,  -3.4425,   7.6705,  20.5591,\n",
      "          30.0229,   7.6203,  16.1438],\n",
      "        [ -0.5083,  -4.2359,   6.7596,  -5.8869,  -1.4616,  -3.4062,  17.4902,\n",
      "          12.8715,   3.6362,   5.2321],\n",
      "        [-11.0623, -17.0080,   7.6396,   3.8414,   0.0688,   8.2533,  12.2584,\n",
      "          12.9623,   6.3019,  10.0732],\n",
      "        [ -0.7017, -10.1828,   1.5654,  -3.7027, -15.0661,  -2.0040,  14.3549,\n",
      "          23.5257,  -1.7504,   7.3256],\n",
      "        [-14.8505,  -7.8238,   2.7368,   8.6571,   0.1181,   0.8104,   8.5991,\n",
      "          20.3244,  -3.1229,   6.2100],\n",
      "        [  0.1473,  -8.8709,   8.6623,   2.2347,   0.5727,  10.0188,  19.9069,\n",
      "          17.9267,  -1.8121,  11.0619],\n",
      "        [ 11.7619,  -5.1375,  13.8773,  -8.4069,   0.5090,   1.9741,  14.4630,\n",
      "          25.2744,   2.2900,   7.7832],\n",
      "        [  5.9980, -16.5554,   9.0152,  -7.7095,  -0.0427,   1.2407,   6.1503,\n",
      "           8.1977,  -4.8105,   3.8876],\n",
      "        [ 13.6533, -12.6223,  11.6953,  -6.7059,  -5.9203,   1.4462,  24.7382,\n",
      "          16.6488,  -2.1631,  11.3055],\n",
      "        [-10.8864, -11.8543,   2.5403,   4.9816,  -8.8658,  10.6271,  13.3339,\n",
      "          12.0208,  -1.3408,  -0.3702],\n",
      "        [ 12.0563,  -4.8859,   8.2505,  -3.2808,  -0.3301,  -2.1034,  19.0537,\n",
      "          14.4242,  -1.5743,   2.6864],\n",
      "        [  7.3547,  -9.5197,   2.3606,   1.5108,  -4.7322,   3.3281,  27.3003,\n",
      "           5.1686,  -2.1324,  -3.1070],\n",
      "        [ -2.0188, -13.3187,   8.0842,  -0.0134,  -0.1739,  -7.2244,   6.2031,\n",
      "          20.1127,  -1.2850,   3.3356],\n",
      "        [  2.9635,  -3.5332,   1.1854,   0.2105,   1.7943,   5.2359,  23.5736,\n",
      "          26.7819,   5.0422,   6.3100],\n",
      "        [ -1.5802, -11.1379,   0.6129,   3.7179, -10.9683,  11.0198,  15.6027,\n",
      "          21.4573,  -1.5131,  17.0647],\n",
      "        [  5.9257, -10.6292,   6.7172,  -9.1851,  -5.0652,  -5.6196,  19.2657,\n",
      "          10.5423, -12.8573,   5.3521],\n",
      "        [  2.5327,  -8.1591,   2.5582,   0.8728,  -9.0730,   7.4113,  18.0105,\n",
      "          27.2802,   5.2381,  11.2176],\n",
      "        [ -1.1902,  -8.2303,  24.1590,  -2.7208,  -3.4523,   9.6606,  14.3059,\n",
      "          17.8043,  -3.8180,   9.5856],\n",
      "        [ -0.0243, -22.7279,   0.4917,  -6.2723,  -5.2247,   0.8340,   6.8835,\n",
      "          12.8236,  -3.9517,   7.9611],\n",
      "        [ -6.4819,  -9.6004,   5.5701,   0.9635,  -4.3783,   6.9746,  21.7473,\n",
      "          13.6153,  -8.1417,  10.5257],\n",
      "        [ -8.4283,  -2.5086,   4.1492,   0.2023,  -1.5998,   3.0268,  17.0091,\n",
      "          15.1899,  -2.9164,  12.5944],\n",
      "        [  0.9080,  -3.9543,   4.1421,   2.1603,  -8.9548,   0.8647,  17.3753,\n",
      "          18.7125,   2.5198,   7.2708],\n",
      "        [  6.0183,  -2.3922,   9.3836,  -5.4710,  -1.2635,   1.0889,  18.5185,\n",
      "          15.6777,   5.8508,   8.1954],\n",
      "        [  3.4703,  -8.7456,  10.7566,  -7.1492,  -7.1641,   1.7685,  23.1738,\n",
      "          11.8072,   0.3152,   7.7237],\n",
      "        [  0.3448,  -8.8462,   2.5382,   3.8075,  -3.4969,  10.9447,   9.5246,\n",
      "          15.3830,   4.2555,   6.0235],\n",
      "        [ 17.2276, -13.1413,   4.7402,  -4.3437,  -3.8815,  -0.1194,  21.5237,\n",
      "          16.5408,   1.6283,  12.9531]])\n",
      "torch.Size([64, 10])\n"
     ]
    }
   ],
   "source": [
    "def activation(x):\n",
    "    return 1/(1+torch.exp(x))\n",
    "## flatten la imagen\n",
    "inputs=images.view(images.shape[0],-1) # 64,728\n",
    "# crear parametros\n",
    "w1=torch.randn(784,256)\n",
    "b1=torch.randn(256)\n",
    "w2=torch.randn(256,10)\n",
    "b2=torch.randn(10)\n",
    "\n",
    "h=activation(torch.mm(inputs,w1)+b1)\n",
    "out=torch.mm(h,w2)+b2\n",
    "print(out)\n",
    "print(out.shape)"
   ]
  },
  {
   "cell_type": "markdown",
   "metadata": {},
   "source": [
    "## Neural network by pytorch\n"
   ]
  },
  {
   "cell_type": "code",
   "execution_count": 1,
   "metadata": {},
   "outputs": [],
   "source": [
    "from torch import nn"
   ]
  },
  {
   "cell_type": "code",
   "execution_count": 6,
   "metadata": {},
   "outputs": [],
   "source": [
    "class Network(nn.Module):\n",
    "    def __init__(self):\n",
    "        super().__init__()\n",
    "        ## definnir capas\n",
    "        self.hidden=nn.Linear(784,256)\n",
    "        self.output=nn.Linear(256,10)\n",
    "        ## definir funciones de activacion \n",
    "        self.sigmoid=nn.Sigmoid()\n",
    "        self.softmax=nn.Softmax(dim=1)  # dim=1 calcula sotmax atraves de las columnas\n",
    "    def forward(self,x):\n",
    "        # se pasa el vector de entrada en cada operacion\n",
    "        x=self.hidden(x)\n",
    "        x=self.sigmoid(x)\n",
    "        x=self.output(x)\n",
    "        x=self.softmax(x)\n",
    "        return x"
   ]
  },
  {
   "cell_type": "code",
   "execution_count": 7,
   "metadata": {},
   "outputs": [
    {
     "data": {
      "text/plain": [
       "Network(\n",
       "  (hidden): Linear(in_features=784, out_features=256, bias=True)\n",
       "  (output): Linear(in_features=256, out_features=10, bias=True)\n",
       "  (sigmoid): Sigmoid()\n",
       "  (softmax): Softmax()\n",
       ")"
      ]
     },
     "execution_count": 7,
     "metadata": {},
     "output_type": "execute_result"
    }
   ],
   "source": [
    "model=Network()\n",
    "model"
   ]
  },
  {
   "cell_type": "markdown",
   "metadata": {},
   "source": [
    " se puede definir una red de manera mas concisa y  lara usando torch.nn.fuctional modulo"
   ]
  },
  {
   "cell_type": "code",
   "execution_count": 15,
   "metadata": {},
   "outputs": [],
   "source": [
    "\n",
    "class Network(nn.Module):\n",
    "    def __init__(self):\n",
    "        super().__init__()\n",
    "        self.hidden=nn.Linear(784,256)\n",
    "        self.output=nn.Linear(256,10)\n",
    "    def forward(self,x):\n",
    "        x=F.sigmoid(self.hidden(x))\n",
    "        x=F.softmax(self.output(x),dim=1)\n",
    "        return x\n",
    "        \n",
    "    "
   ]
  },
  {
   "cell_type": "code",
   "execution_count": 16,
   "metadata": {},
   "outputs": [
    {
     "data": {
      "text/plain": [
       "Network(\n",
       "  (hidden): Linear(in_features=784, out_features=256, bias=True)\n",
       "  (output): Linear(in_features=256, out_features=10, bias=True)\n",
       ")"
      ]
     },
     "execution_count": 16,
     "metadata": {},
     "output_type": "execute_result"
    }
   ],
   "source": [
    "model=Network()\n",
    "model"
   ]
  },
  {
   "cell_type": "code",
   "execution_count": 17,
   "metadata": {},
   "outputs": [],
   "source": [
    "from torch import nn\n",
    "import torch.nn.functional as F"
   ]
  },
  {
   "cell_type": "code",
   "execution_count": 18,
   "metadata": {},
   "outputs": [],
   "source": [
    "class Network(nn.Module):\n",
    "    def __init__(self):\n",
    "        super().__init__()\n",
    "        ## definir capas\n",
    "        self.hidden1=nn.Linear(784,128)\n",
    "        self.hidden2=nn.Linear(128,64)\n",
    "        self.output=nn.Linear(64,10)\n",
    "    def forward(x):\n",
    "        x=F.relu(self.hidden1(x))\n",
    "        x=F.relu(self.hidden2(x))\n",
    "        x=F.softmax(self.output(x))\n",
    "        return x\n",
    "        "
   ]
  },
  {
   "cell_type": "code",
   "execution_count": 19,
   "metadata": {},
   "outputs": [
    {
     "data": {
      "text/plain": [
       "Network(\n",
       "  (hidden1): Linear(in_features=784, out_features=128, bias=True)\n",
       "  (hidden2): Linear(in_features=128, out_features=64, bias=True)\n",
       "  (output): Linear(in_features=64, out_features=10, bias=True)\n",
       ")"
      ]
     },
     "execution_count": 19,
     "metadata": {},
     "output_type": "execute_result"
    }
   ],
   "source": [
    "model=Network()\n",
    "model"
   ]
  },
  {
   "cell_type": "markdown",
   "metadata": {},
   "source": [
    "## net"
   ]
  },
  {
   "cell_type": "code",
   "execution_count": 1,
   "metadata": {},
   "outputs": [],
   "source": [
    "import torch\n",
    "from torch import nn\n",
    "import torch.nn.functional as F\n",
    "from torchvision import datasets,transforms\n",
    "transform=transforms.Compose([transforms.ToTensor(),\n",
    "                             transforms.Normalize((0.5,0.5,0.5),(0.5,0.5,0.5)),\n",
    "                             ])\n",
    "##transforms.Compose() sirve para agrupar todas las transformaciones que se van a aplicar a cada imagen \n",
    "trainset=datasets.MNIST('MNIST_data/',download=True,train=True,transform=transform)\n",
    "## train (bool, optional) – If True, creates dataset from training.pt, otherwise from test.pt.\n",
    "trainloader=torch.utils.data.DataLoader(trainset,batch_size=64,shuffle=True)\n",
    "## el conjunto de entrenamiento se carga en el trainloader "
   ]
  },
  {
   "cell_type": "code",
   "execution_count": 5,
   "metadata": {},
   "outputs": [
    {
     "name": "stdout",
     "output_type": "stream",
     "text": [
      "tensor(2.2857, grad_fn=<NllLossBackward>)\n"
     ]
    }
   ],
   "source": [
    "# crear feed-forward\n",
    "# Use the nn package to define our model as a sequence of layers. nn.Sequential\n",
    "# is a Module which contains other Modules, and applies them in sequence to\n",
    "# produce its output. Each Linear Module computes output from input using a\n",
    "# linear function, and holds internal Tensors for its weight and bias.\n",
    "model=nn.Sequential(nn.Linear(784,128),\n",
    "                    nn.ReLU(),\n",
    "                    nn.Linear(128,64),\n",
    "                    nn.ReLU(),\n",
    "                    nn.Linear(64,10),\n",
    "                    nn.LogSoftmax(dim=1)\n",
    "                   )\n",
    "# define la  perdida\n",
    "criterion=nn.NLLLoss()\n",
    "# obtener infromacion\n",
    "images,labels=next(iter(trainloader))\n",
    "# flatten iages\n",
    "images=images.view(images.shape[0],-1)\n",
    "# forward pass, get our logits\n",
    "logits=model(images)\n",
    "# calculate loss\n",
    "loss=criterion(logits,labels)\n",
    "print(loss)\n"
   ]
  },
  {
   "cell_type": "code",
   "execution_count": 8,
   "metadata": {},
   "outputs": [
    {
     "name": "stdout",
     "output_type": "stream",
     "text": [
      "Training loss: 0.6423623509355573\n",
      "Training loss: 0.28366188368976497\n",
      "Training loss: 0.2137056589325163\n",
      "Training loss: 0.1705918271324909\n",
      "Training loss: 0.14195523019046036\n"
     ]
    }
   ],
   "source": [
    "model=nn.Sequential(nn.Linear(784,128),\n",
    "                    nn.ReLU(),\n",
    "                    nn.Linear(128,64),\n",
    "                    nn.ReLU(),\n",
    "                    nn.Linear(64,10),\n",
    "                    nn.LogSoftmax(dim=1)\n",
    "                   )\n",
    "criterion=nn.NLLLoss()\n",
    "# requiere los parametros a optimizar\n",
    "optimizer=torch.optim.SGD(model.parameters(),lr=0.03)\n",
    "epochs=5\n",
    "for e in range(epochs):\n",
    "    running_loss=0\n",
    "    for images, labels in trainloader:\n",
    "        images= images.view(images.shape[0],-1) # 784x1\n",
    "        ## training pass\n",
    "        optimizer.zero_grad() # para quitar los gradientes acumulados\n",
    "        output=model.forward(images)\n",
    "        loss=criterion(output,labels) # calcular costo\n",
    "        loss.backward() # calcular gradientes\n",
    "        optimizer.step() # optimizar parametros\n",
    "        running_loss += loss.item()\n",
    "    else:\n",
    "        print(\"Training loss:\",running_loss/len(trainloader))\n",
    "        \n"
   ]
  },
  {
   "cell_type": "code",
   "execution_count": 25,
   "metadata": {},
   "outputs": [
    {
     "name": "stdout",
     "output_type": "stream",
     "text": [
      "tensor([[-10.3922,  -9.0766,  -5.6354,  -5.4328, -12.8175,  -7.3485,  -9.8780,\n",
      "         -13.0640,  -0.0089,  -9.9553]])\n",
      "tensor([[3.0671e-05, 1.1431e-04, 3.5693e-03, 4.3709e-03, 2.7129e-06, 6.4354e-04,\n",
      "         5.1293e-05, 2.1201e-06, 9.9117e-01, 4.7474e-05]])\n",
      "tensor(8)\n"
     ]
    },
    {
     "data": {
      "text/plain": [
       "<matplotlib.image.AxesImage at 0xbe755d0550>"
      ]
     },
     "execution_count": 25,
     "metadata": {},
     "output_type": "execute_result"
    },
    {
     "data": {
      "image/png": "[encoded data removed]",
      "text/plain": [
       "<Figure size 432x288 with 1 Axes>"
      ]
     },
     "metadata": {},
     "output_type": "display_data"
    }
   ],
   "source": [
    "import helper\n",
    "images,labels=next(iter(trainloader))\n",
    "\n",
    "img=images[0].view(1,784)\n",
    "# apagar gradientes ya que haremos una prediccion \n",
    "with torch.no_grad():\n",
    "    logits=model.forward(img)\n",
    "# la salida de la red son logits, necesita de softmax para las probabilidades\n",
    "ps=F.softmax(logits,dim=1)\n",
    "print(logits)\n",
    "print(ps)\n",
    "print(np.argmax(ps))\n",
    "plt.imshow(img.view(28,28))"
   ]
  }
 ],
 "metadata": {
  "kernelspec": {
   "display_name": "Python 3",
   "language": "python",
   "name": "python3"
  },
  "language_info": {
   "codemirror_mode": {
    "name": "ipython",
    "version": 3
   },
   "file_extension": ".py",
   "mimetype": "text/x-python",
   "name": "python",
   "nbconvert_exporter": "python",
   "pygments_lexer": "ipython3",
   "version": "3.5.5"
  }
 },
 "nbformat": 4,
 "nbformat_minor": 2
}
